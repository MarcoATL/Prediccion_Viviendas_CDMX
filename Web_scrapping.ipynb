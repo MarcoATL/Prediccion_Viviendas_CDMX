{
  "cells": [
    {
      "cell_type": "markdown",
      "metadata": {},
      "source": [
        "\n",
        "# Extracción de Datos de Propiedades Inmobiliarias en CDMX\n",
        "\n",
        "## Descripción\n",
        "En este notebook, se realiza la extracción de datos de propiedades inmobiliarias en diferentes alcaldías de la Ciudad de México desde el sitio web Lamudi. Se recopila información relevante de cada propiedad, como:\n",
        "\n",
        "- **Ubicación:** Dirección de la propiedad.\n",
        "- **Precio:** Precio de venta de la propiedad.\n",
        "- **Descripción:** PDetalles sobre la propiedad.\n",
        "- **Metros Cuadrados:** Área construida de la propiedad en metros cuadrados.\n",
        "- **Número de Recámaras:** Cantidad de recámaras.\n",
        "- **Número de Baños:** Cantidad de baños.\n",
        "\n",
        "Estos datos se guardan en un archivo CSV para su posterior análisis y modelado."
      ]
    },
    {
      "cell_type": "code",
      "execution_count": 1,
      "metadata": {
        "colab": {
          "base_uri": "https://localhost:8080/"
        },
        "id": "fVrr5ru2snnV",
        "outputId": "2363af3b-be94-4073-adca-8ac1a6e5f53a"
      },
      "outputs": [
        {
          "name": "stdout",
          "output_type": "stream",
          "text": [
            "Scrapeando propiedades en Álvaro Obregón\n",
            "Scrapeando propiedades en Azcapotzalco\n",
            "Scrapeando propiedades en Benito Juárez\n",
            "Scrapeando propiedades en Coyoacán\n",
            "Scrapeando propiedades en Cuauhtémoc\n",
            "Scrapeando propiedades en Gustavo A. Madero\n",
            "Scrapeando propiedades en Miguel Hidalgo\n",
            "Datos guardados en 'departamentos_cdmx.csv'\n"
          ]
        }
      ],
      "source": [
        "import requests\n",
        "from bs4 import BeautifulSoup\n",
        "import pandas as pd\n",
        "\n",
        "# Encabezado de agente de usuario\n",
        "headers = {\n",
        "    'User-Agent': 'Mozilla/5.0 (Windows NT 10.0; Win64; x64) AppleWebKit/537.36 (KHTML, like Gecko) Chrome/91.0.4472.124 Safari/537.36'\n",
        "}\n",
        "\n",
        "def get_page_content(url):\n",
        "    response = requests.get(url, headers=headers)\n",
        "    if response.status_code == 200:\n",
        "        return response.text\n",
        "    else:\n",
        "        print(f\"Error {response.status_code} al obtener la página: {url}\")\n",
        "        return None\n",
        "\n",
        "def extract_text_or_none(soup, selector, attribute=None):\n",
        "    element = soup.select_one(selector)\n",
        "    if element:\n",
        "        if attribute:\n",
        "            return element.get(attribute, None).strip()\n",
        "        return element.text.strip()\n",
        "    return None\n",
        "\n",
        "def parse_property_data(page_content, alcaldia):\n",
        "    soup = BeautifulSoup(page_content, 'html.parser')\n",
        "    properties = []\n",
        "\n",
        "    listings_container = soup.find('div', class_='listings__cards notSponsored', id='listings-content')\n",
        "\n",
        "    if not listings_container:\n",
        "        print(\"No se encontró el contenedor principal.\")\n",
        "        return properties\n",
        "\n",
        "    for property_container in listings_container.find_all('div', class_='snippet__content'):\n",
        "        title = extract_text_or_none(property_container, 'span.snippet__content__title')\n",
        "        price = extract_text_or_none(property_container, 'div.snippet__content__price')\n",
        "        location = extract_text_or_none(property_container, 'span[data-test=\"snippet-content-location\"]')\n",
        "        description = extract_text_or_none(property_container, 'div.snippet__content__description')\n",
        "        bedrooms = extract_text_or_none(property_container, 'span.property__number.bedrooms')\n",
        "        bathrooms = extract_text_or_none(property_container, 'span.property__number.bathrooms')\n",
        "        area = extract_text_or_none(property_container, 'span.property__number.area')\n",
        "\n",
        "        properties.append({\n",
        "            'alcaldia': alcaldia,\n",
        "            'title': title,\n",
        "            'price': price,\n",
        "            'location': location,\n",
        "            'description': description,\n",
        "            'bedrooms': bedrooms,\n",
        "            'bathrooms': bathrooms,\n",
        "            'area': area\n",
        "        })\n",
        "\n",
        "    return properties\n",
        "\n",
        "def scrape_properties(base_url, alcaldia, num_pages):\n",
        "    all_properties = []\n",
        "    for page in range(1, num_pages + 1):\n",
        "        url = f\"{base_url}?page={page}\"\n",
        "        page_content = get_page_content(url)\n",
        "        if page_content:\n",
        "            properties = parse_property_data(page_content, alcaldia)\n",
        "            all_properties.extend(properties)\n",
        "        else:\n",
        "            print(f\"Error al obtener la página {page}\")\n",
        "\n",
        "    return all_properties\n",
        "\n",
        "# Ejemplo de uso con múltiples alcaldías\n",
        "base_urls = {\n",
        "    'Álvaro Obregón': 'https://www.lamudi.com.mx/distrito-federal/alvaro-obregon/for-sale/',\n",
        "    'Azcapotzalco': 'https://www.lamudi.com.mx/distrito-federal/azcapotzalco/for-sale/',\n",
        "    'Benito Juárez': 'https://www.lamudi.com.mx/distrito-federal/benito-juarez/for-sale/',\n",
        "    'Coyoacán': 'https://www.lamudi.com.mx/distrito-federal/coyoacan/for-sale/',\n",
        "    'Cuauhtémoc': 'https://www.lamudi.com.mx/distrito-federal/cuauhtemoc-2/for-sale/',\n",
        "    'Gustavo A. Madero': 'https://www.lamudi.com.mx/distrito-federal/gustavo-a-madero/for-sale/',\n",
        "    'Miguel Hidalgo': 'https://www.lamudi.com.mx/distrito-federal/miguel-hidalgo/for-sale/',\n",
        "}\n",
        "num_pages = 7  # Número de páginas a scrapear\n",
        "\n",
        "all_properties = []\n",
        "for alcaldia, base_url in base_urls.items():\n",
        "    print(f\"Scrapeando propiedades en {alcaldia}\")\n",
        "    properties = scrape_properties(base_url, alcaldia, num_pages)\n",
        "    all_properties.extend(properties)\n",
        "\n",
        "# Guardar los datos en un DataFrame de pandas\n",
        "df = pd.DataFrame(all_properties)\n",
        "df.to_csv('departamentos_cdmx.csv', index=False)\n",
        "\n",
        "print(\"Datos guardados en 'departamentos_cdmx.csv'\")\n"
      ]
    }
  ],
  "metadata": {
    "colab": {
      "provenance": []
    },
    "kernelspec": {
      "display_name": "Python 3",
      "name": "python3"
    },
    "language_info": {
      "codemirror_mode": {
        "name": "ipython",
        "version": 3
      },
      "file_extension": ".py",
      "mimetype": "text/x-python",
      "name": "python",
      "nbconvert_exporter": "python",
      "pygments_lexer": "ipython3",
      "version": "3.12.0"
    }
  },
  "nbformat": 4,
  "nbformat_minor": 0
}
